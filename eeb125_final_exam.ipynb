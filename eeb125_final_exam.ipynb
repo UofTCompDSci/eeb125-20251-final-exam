{
 "cells": [
  {
   "cell_type": "markdown",
   "id": "775848c9",
   "metadata": {},
   "source": [
    "<div style=\"text-align: center\">\n",
    "\n",
    "**UNIVERSITY OF TORONTO**\n",
    "\n",
    "**Faculty of Arts & Science**\n",
    "\n",
    "**WINTER 2025 EXAMINATIONS**\n",
    "\n",
    "**EEB125H1S - Introductory Computation and Data Science for Life and Physical Sciences**\n",
    "\n",
    "**Duration**: 3 hours\n",
    "\n",
    "**Aids Allowed**: You have access to the EEB125 Course Website, JupyterHub, and MarkUs. You may consult printed out or handwritten notes for the course. You may not consult any other references.\n",
    "\n",
    "</div>\n",
    "\n",
    "## Exam Reminders\n",
    "\n",
    "- As a student, you help create a fair and inclusive writing environment. If you possess an unauthorized aid during an exam, you may be charged with an academic offence.\n",
    "- Turn off and place all cell phones, smart watches, electronic devices, and unauthorized study materials in your bag under your desk. If it is left in your pocket, it may be an academic offence.\n",
    "- When you are done your exam, download the file and submit it to [MarkUs](https://markus.teach.cs.toronto.edu/markus/main/login_remote_auth) under the `final-exam` assignment. We have included submission instructions at the bottom of this notebook (same as past course work).\n",
    "    - **Note**: *Please give yourself at least 10 minutes to submit the final exam onto MarkUs on time.*\n",
    "- All answers should be written in the provided cells in this notebook. You will *only* submit this notebook on MarkUs.\n",
    "\n",
    "## Quick Links\n",
    "\n",
    "- [EEB125 Course Website](https://uoftcompdsci.github.io/eeb125-20241/jupyter-book/index.html)\n",
    "- [MarkUs](https://markus-ds.teach.cs.toronto.edu)\n",
    "- [JupyterHub](https://jupyter.utoronto.ca)\n"
   ]
  },
  {
   "cell_type": "markdown",
   "id": "f40506b6",
   "metadata": {},
   "source": [
    "## Part 0: Setup\n",
    "\n",
    "The following code cell includes all imports you'll need for this exam.\n",
    "Run the cell, but do not modify it."
   ]
  },
  {
   "cell_type": "code",
   "execution_count": null,
   "id": "8d66a61e",
   "metadata": {},
   "outputs": [],
   "source": [
    "import numpy as np\n",
    "import pandas as pd\n",
    "import matplotlib.pyplot as plt\n",
    "import statsmodels.formula.api as smf\n",
    "\n",
    "import seaborn as sns  # This import is technically optional, but you may find it useful"
   ]
  },
  {
   "cell_type": "code",
   "execution_count": null,
   "id": "fd499c42",
   "metadata": {},
   "outputs": [],
   "source": [
    "print(\"Hello world\")"
   ]
  },
  {
   "cell_type": "markdown",
   "id": "fa7e406e",
   "metadata": {},
   "source": [
    "*Write your response here.*"
   ]
  },
  {
   "cell_type": "markdown",
   "id": "797fc82a",
   "metadata": {},
   "source": [
    "## How to Submit the Final Exam\n",
    "\n",
    "1. Download this notebook to your computer and save it as `eeb125_final_exam.ipynb`.\n",
    "2. Log in here: https://markus.teach.cs.toronto.edu/markus/main/login_remote_auth.\n",
    "3. Submit the downloaded file to `final-exam: Final Exam`.\n",
    "    You do *not* need to submit the `pantheria.csv` dataset file.\n",
    "\n",
    "**Note**: MarkUs will accept multiple submissions, so of you have submitted early and would like to make changes and resubmit *before the exam's end time*, you absolutely can!"
   ]
  }
 ],
 "metadata": {
  "kernelspec": {
   "display_name": "Python 3 (ipykernel)",
   "language": "python",
   "name": "python3"
  },
  "language_info": {
   "codemirror_mode": {
    "name": "ipython",
    "version": 3
   },
   "file_extension": ".py",
   "mimetype": "text/x-python",
   "name": "python",
   "nbconvert_exporter": "python",
   "pygments_lexer": "ipython3",
   "version": "3.13.1"
  },
  "vscode": {
   "interpreter": {
    "hash": "901b79e026e03396fd1ffa7133844e9ea80e258ce34c66e1aabb5896bcb18463"
   }
  }
 },
 "nbformat": 4,
 "nbformat_minor": 5
}
