{
 "cells": [
  {
   "cell_type": "markdown",
   "id": "775848c9",
   "metadata": {},
   "source": [
    "<div style=\"text-align: center\">\n",
    "\n",
    "**UNIVERSITY OF TORONTO**\n",
    "\n",
    "**Faculty of Arts & Science**\n",
    "\n",
    "**WINTER 2025 EXAMINATIONS**\n",
    "\n",
    "**EEB125H1S - Introductory Computation and Data Science for Life and Physical Sciences**\n",
    "\n",
    "**Duration**: 3 hours\n",
    "\n",
    "**Aids Allowed**: You have access to the EEB125 Course Website, JupyterHub, and MarkUs. You may consult printed out or handwritten notes for the course. You may not consult any other references.\n",
    "\n",
    "</div>\n",
    "\n",
    "## Exam Reminders\n",
    "\n",
    "- As a student, you help create a fair and inclusive writing environment. If you possess an unauthorized aid during an exam, you may be charged with an academic offence.\n",
    "- Turn off and place all cell phones, smart watches, electronic devices, and unauthorized study materials in your bag under your desk. If it is left in your pocket, it may be an academic offence.\n",
    "- When you are done your exam, download the file and submit it to [MarkUs](https://markus.teach.cs.toronto.edu/markus/main/login_remote_auth) under the `final-exam` assignment. We have included submission instructions at the bottom of this notebook (same as past course work).\n",
    "    - **Note**: *Please give yourself at least 10 minutes to submit the final exam onto MarkUs on time.*\n",
    "- All answers should be written in the provided cells in this notebook. You will *only* submit this notebook on MarkUs.\n",
    "\n",
    "### Total Marks: 69 points\n",
    "\n",
    "## Quick Links\n",
    "\n",
    "- [EEB125 Course Website](https://uoftcompdsci.github.io/eeb125-20251/jupyter-book/index.html)\n",
    "- [MarkUs](https://markus.teach.cs.toronto.edu/markus/main/login_remote_auth)\n",
    "- [JupyterHub](https://jupyter.utoronto.ca)\n"
   ]
  },
  {
   "cell_type": "markdown",
   "id": "f40506b6",
   "metadata": {},
   "source": [
    "## Part 0: Setup\n",
    "\n",
    "The following code cell includes all imports you'll need for this exam.\n",
    "Run the cell, but do not modify it."
   ]
  },
  {
   "cell_type": "code",
   "execution_count": 66,
   "id": "8d66a61e",
   "metadata": {},
   "outputs": [],
   "source": [
    "import numpy as np\n",
    "import pandas as pd\n",
    "import matplotlib.pyplot as plt\n",
    "import statsmodels.formula.api as smf\n",
    "\n",
    "import seaborn as sns  # This import is technically optional, but you may find it useful"
   ]
  },
  {
   "cell_type": "markdown",
   "id": "f6720d36",
   "metadata": {},
   "source": [
    "## Part 1: Python Programming (9 points)"
   ]
  },
  {
   "cell_type": "markdown",
   "id": "3f260bd6",
   "metadata": {},
   "source": [
    "### Task 1 (3 pts)\n",
    "\n",
    "**Create the following three variables:**\n",
    "\n",
    "- `hometown`: a *string* containing the name of the place you were born or grew up\n",
    "- `num_siblings`: an *integer* containing the number of siblings you have\n",
    "- `favourite_foods`: a *list of THREE strings* that name three foods that you like."
   ]
  },
  {
   "cell_type": "code",
   "execution_count": null,
   "id": "94c2ff2b",
   "metadata": {},
   "outputs": [],
   "source": [
    "# Write your solution here\n",
    "\n",
    "\n",
    "\n",
    "# This code is provided to help check your work\n",
    "print(f\"Your hometown is {hometown}\")\n",
    "print(f\"You have {num_siblings} sibling(s)\")\n",
    "print(f\"These are your three favourite foods: {favourite_foods}\")"
   ]
  },
  {
   "cell_type": "markdown",
   "id": "ccc379de",
   "metadata": {},
   "source": [
    "### Task 2 (6 pts)\n",
    "\n",
    "We have given you a long string in the code cell below.\n",
    "You have two tasks:\n",
    "\n",
    "1. First, **split** the string into sentences using the `split()` method by splitting on \".\". Store the result in a variable called `sentences`.\n",
    "2. Then, create an empty list called `sentence_lengths`. Using a loop, iterate over `sentences`, appending the number of words in each sentence to `sentence_lengths`. Words in a sentence are separated by spaces and may include punctuation. (In the example below, \"numbers,\" is a word and \"-\" is a word. You may assume there will never be two spaces in a row.)\n",
    "\n",
    "You can print out your two variables `sentences` and `sentence_lengths` to check your work for this question.\n",
    "\n",
    "To earn any marks, you solution must work for different values of `quote`.\n"
   ]
  },
  {
   "cell_type": "code",
   "execution_count": null,
   "id": "b379d826",
   "metadata": {},
   "outputs": [],
   "source": [
    "# This variable is given to you: do not change it!\n",
    "quote = \"Data isn’t units of information. Data is a story about human behavior - about real people's wants, needs, goals and fears. Never let the numbers, platforms, charts and methodologies cloud your vision. Our real job with data is to ter understand these very human stories, so we can better serve these people. Every goal your business has is directly tied to your success in understanding and serving people. — Daniel Burstein\"\n",
    "\n",
    "\n",
    "# Write your solution here\n",
    "\n",
    "\n",
    "\n",
    "# This code is provided to help you check your work\n",
    "print(sentences)\n",
    "print(sentence_lengths)"
   ]
  },
  {
   "cell_type": "markdown",
   "id": "f5849ff3",
   "metadata": {},
   "source": [
    "## Part 2: Exploring Data (15 points)\n",
    "\n",
    "To start, run the following cell to load the dataset you'll use for the rest of this exam."
   ]
  },
  {
   "cell_type": "code",
   "execution_count": null,
   "id": "cc84e86d",
   "metadata": {},
   "outputs": [],
   "source": [
    "# Run the following cell, but do not change it!\n",
    "pantheria_raw = pd.read_csv('pantheria.csv')\n",
    "\n",
    "pantheria_raw.head()"
   ]
  },
  {
   "cell_type": "markdown",
   "id": "f91243c0",
   "metadata": {},
   "source": [
    "### Task 1: Data cleaning (4 pts)\n",
    "\n",
    "You'll now perform three different data cleaning operations.\n",
    "At each step, we've specified a variable to store the result in, so that all of your work can be autograded.\n",
    "As we saw in lecture, all of these steps create a new `DataFrame`, rather than modifying an existing `DataFrame`. (That makes it easier for you to check your work at each step.)\n",
    "\n",
    "1. Extract just the `'1-1_ActivityCycle'`, `'5-1_AdultBodyMass_g'`, `'10-2_SocialGrpSize'`, `'17-1_MaxLongevity_m'`, and `'27-2_HuPopDen_Mean_n/km2'` columns from `pantheria_raw`, storing the resulting `DataFrame` in a variable called `pantheria_subset`.\n",
    "    The columns must appear in the order listed in this question.\n",
    "    You are encouraged, but not required, to create a new list variable to store the column names.\n",
    "\n",
    "2. Take `pantheria_subset` and rename the columns as follows:\n",
    "\n",
    "    | Original column name        | New column name          |\n",
    "    |-----------------------------|--------------------------|\n",
    "    | `1-1_ActivityCycle`         | `Activity Cycle`         |\n",
    "    | `5-1_AdultBodyMass_g`       | `Body Mass (g)`          |\n",
    "    | `10-2_SocialGrpSize`        | `Social Group Size`      |\n",
    "    | `17-1_MaxLongevity_m`       | `Max Longevity (m)`      |\n",
    "    | `27-2_HuPopDen_Mean_n/km2`  | `Mean Human Density`     |\n",
    "\n",
    "    Store the resulting `DataFrame` in a variable called `pantheria_renamed`.\n",
    "\n",
    "3. Finally, replace all occurrences of `-999` in `pantheria_renamed` with `np.NaN`, storing the resulting `DataFrame` in a variable called `pantheria_clean`. (*Note*: `np.NaN` is different from the `pd.NA` value we saw in lecture.)\n",
    "\n",
    "    You will use `pantheria_clean` for the rest of this part."
   ]
  },
  {
   "cell_type": "code",
   "execution_count": null,
   "id": "da93111c",
   "metadata": {},
   "outputs": [],
   "source": [
    "# Write your solution here\n",
    "\n",
    "\n",
    "\n",
    "\n",
    "\n",
    "# This code is provided to help you check your work\n",
    "pantheria_clean.head()\n"
   ]
  },
  {
   "cell_type": "markdown",
   "id": "5f5be8a2",
   "metadata": {},
   "source": [
    "### Task 2: Labelling noctural and diurnal animals\n",
    "\n",
    "The `Activity Cycle` column in our dataset contains the following possible values:\n",
    "\n",
    "| `Activity Cycle` Value | Meaning                                   |\n",
    "|------------------------|-------------------------------------------|\n",
    "| `1`                    | Noctural                                  |\n",
    "| `2`                    | Neither nocturnal nor diurnal             |\n",
    "| `3`                    | Diurnal                                   |"
   ]
  },
  {
   "cell_type": "markdown",
   "id": "eb4e158b",
   "metadata": {},
   "source": [
    "### 2a: Filtering (4 pts)\n",
    "\n",
    "Create a new `DataFrame` called `pantheria_filtered` which consists of the same data as `pantheria_clean`, but with only the rows where `Activity Cycle` is either `1` *or* `3`."
   ]
  },
  {
   "cell_type": "code",
   "execution_count": null,
   "id": "3b84760a",
   "metadata": {},
   "outputs": [],
   "source": [
    "# Write your solution here\n",
    "\n",
    "\n",
    "\n",
    "# This code is provided to help you check your work\n",
    "pantheria_filtered.head()"
   ]
  },
  {
   "cell_type": "markdown",
   "id": "331f0226",
   "metadata": {},
   "source": [
    "### 2b: Labelling (3 pts)\n",
    "\n",
    "First, run the following code cell without modifying it."
   ]
  },
  {
   "cell_type": "code",
   "execution_count": null,
   "id": "8b7bd078",
   "metadata": {},
   "outputs": [],
   "source": [
    "# Run the following code cell, but do not modify it.\n",
    "# NOTE: if this cell causes an error, make sure to check your\n",
    "# previous work!\n",
    "\n",
    "pantheria_final = pantheria_filtered.copy()\n",
    "pantheria_final.loc[pantheria_final['Activity Cycle'] == 1, 'Activity Cycle Label'] = 'Nocturnal'\n",
    "pantheria_final.loc[pantheria_final['Activity Cycle'] == 3, 'Activity Cycle Label'] = 'Diurnal'\n",
    "\n",
    "pantheria_final.head()"
   ]
  },
  {
   "cell_type": "markdown",
   "id": "c6295622",
   "metadata": {},
   "source": [
    "In the Markdown cell below, briefly explain what the above code does.  "
   ]
  },
  {
   "cell_type": "markdown",
   "id": "039ae0d6",
   "metadata": {},
   "source": []
  },
  {
   "cell_type": "markdown",
   "id": "ec01cead",
   "metadata": {},
   "source": [
    "*Write your answer here.*\n",
    "\n",
    "**Sample answer**: We are adding a new column called \"Activity Cycle Label\" that has the value \"Nocturnal\" if the value in the Activity Cycle column is 1, and \"Diurnal\" if the Activity Cycle column has value 3."
   ]
  },
  {
   "cell_type": "markdown",
   "id": "f2e46d89-9901-4aaf-8c8b-478d4f2b0ed9",
   "metadata": {},
   "source": [
    "### 2c: Computing Group Means (4 pts)\n",
    "\n",
    "You will now compute the *average* density of humans in the habitats occupied by the species belonging to the two categories of Nocturnal and Diurnal animals.\n",
    "\n",
    "Group the rows of `pantheria_final` by the `Activity Cycle Label` column and compute the `mean` of the `Mean Human Density` column for each group. (You may do this multiple steps and create new variables to store intermediate values, if you wish.)\n",
    "\n",
    "Store the resulting `Series` (mapping each `Activity Cycle Label` to the computed mean) in a variable called `mean_human_density_by_activity_cyle`."
   ]
  },
  {
   "cell_type": "code",
   "execution_count": null,
   "id": "e3210f43-2e11-434b-967e-c74fc8a7da61",
   "metadata": {},
   "outputs": [],
   "source": [
    "# solution\n",
    "\n",
    "\n",
    "\n",
    "# This code is provided to help you check your work\n",
    "display(mean_human_density_by_activity_cycle)"
   ]
  },
  {
   "cell_type": "markdown",
   "id": "ec07f3b9",
   "metadata": {},
   "source": [
    "## Part 3: Running a Hypothesis Test (25 points)\n",
    "\n",
    "In this part we will test to see if nocturnal animals tend to occupy habitats that are significantly less perturbed by humans. We are interested in the question because we might wonder whether a nocturnal lifestyle might be a behavioural modification that allows animals to avoid human disturbance.\n",
    "\n",
    "**Null hypothesis:** The mean density of humans in habitats occupied by nocturnal and diurnal species is the same.\n",
    "\n",
    "**Alternative hypothesis:** The mean density of humans in habitats occupied by nocturnal and diurnal species is _not_ the same.\n"
   ]
  },
  {
   "cell_type": "markdown",
   "id": "f496ee28",
   "metadata": {},
   "source": [
    "### Task 1: Exploring the data (2 pts)\n",
    "\n",
    "Before performing a formal statistical analysis, let's do a simple visualzation.\n",
    "\n",
    "In the code cell below, create two **histograms** \n",
    "\n",
    "- one showing the mean human density in habitats for nocturnal species\n",
    "- one showing the mean human density in habitats for diurnal species\n",
    "\n",
    "You do not need to store these values in variables (they will be graded by your TAs, not autograded).\n",
    "You do not need to specify any axis labels or graph titles."
   ]
  },
  {
   "cell_type": "code",
   "execution_count": null,
   "id": "dd369263",
   "metadata": {},
   "outputs": [],
   "source": [
    "# Write your solution here\n",
    "\n",
    "\n",
    "# Keep the code below after each of your plots. \n",
    "plt.show()"
   ]
  },
  {
   "cell_type": "markdown",
   "id": "ffa82ed7",
   "metadata": {},
   "source": [
    "### Task 2: Creating a helper function (4 pts)\n",
    "\n",
    "Complete the function below, which computes the difference in mean human density in habitats occupied by nocturnal and diurnal species. \n",
    "\n",
    "The function will have one argument:\n",
    "\n",
    "+ `data`: the `DataFrame` containing information about the mean human density in the species' habitat (in a column called `'Mean Human Density'`) and nocturnal/diurnal label (in a column called `Activity Cycle Label`).\n",
    "\n",
    "Follow the steps described in the comments inside the function body."
   ]
  },
  {
   "cell_type": "code",
   "execution_count": 45,
   "id": "c7f3ca13",
   "metadata": {},
   "outputs": [],
   "source": [
    "# Complete the following function by following the steps in the comments.\n",
    "def compute_diff_human_density(data):\n",
    "    # 1. First, compute the mean human density for nocturnal animals.\n",
    "\n",
    "\n",
    "\n",
    "    # 2. Then, compute the mean human density for diurnal animals.\n",
    "\n",
    "\n",
    "\n",
    "    # 3. Return the difference (nocturnal - diurnal)\n",
    "    return ..."
   ]
  },
  {
   "cell_type": "markdown",
   "id": "7b78b1a5",
   "metadata": {},
   "source": [
    "### Task 3: Calculating the test statistic (2 pts)\n",
    "\n",
    "Calculate the difference in mean of mean population density in nocturnal animals' habitats and mean of mean population density in diurnal animals' habitats in `pantheria_final`.\n",
    "Store the result in a variable called `test_statistic`, since this value is the test statistic for this hypothesis test.\n",
    "\n",
    "*Hint: use the helper function you wrote in Task 2.* "
   ]
  },
  {
   "cell_type": "code",
   "execution_count": null,
   "id": "79c6f3fc",
   "metadata": {},
   "outputs": [],
   "source": [
    "# Write solution here\n",
    "\n",
    "\n",
    "\n",
    "# This code is provided to help you check your work\n",
    "print(test_statistic)"
   ]
  },
  {
   "cell_type": "markdown",
   "id": "3117b7ec",
   "metadata": {},
   "source": [
    "### Task 4: Shuffling Function (3 pts)\n",
    "\n",
    "You are given the following helper function, which takes in a `DataFrame` that has an `Activity Cycle Label` column.\n",
    "\n",
    "Try running the following cell a few times."
   ]
  },
  {
   "cell_type": "code",
   "execution_count": null,
   "id": "2812a1a5",
   "metadata": {},
   "outputs": [],
   "source": [
    "# Run this cell a few times, but do not modify it.\n",
    "\n",
    "def shuffle_nocturnal_labels(data):\n",
    "    new_data = data.copy()\n",
    "\n",
    "    new_nocturnal = new_data['Activity Cycle Label'].sample(frac=1, replace=False)\n",
    "    new_nocturnal = new_nocturnal.set_axis(new_data.index)\n",
    "    \n",
    "    new_data['Activity Cycle Label'] = new_nocturnal\n",
    "    return new_data\n",
    "\n",
    "\n",
    "# This is a sample function call. Note the Activity Cycle Label column.\n",
    "shuffled = shuffle_nocturnal_labels(pantheria_final)\n",
    "display(shuffled)\n",
    "display(shuffled['Activity Cycle Label'].value_counts())"
   ]
  },
  {
   "cell_type": "markdown",
   "id": "eaf2224d",
   "metadata": {},
   "source": [
    "In the cell below, answer the following questions:\n",
    "\n",
    "1. Describe in 2-3 sentences what the function `shuffle_nocturnal_labels` does.\n",
    "2. Each time we run the code cell, is the value of `shuffled` the same or different? Explain why.\n",
    "3. Each time we run the code cell, is the value of `shuffled['Activity Cycle Label'].value_counts()` the same or different? Explain why."
   ]
  },
  {
   "cell_type": "markdown",
   "id": "777929e9",
   "metadata": {},
   "source": [
    "*Write your answer here*."
   ]
  },
  {
   "cell_type": "markdown",
   "id": "1c46185a",
   "metadata": {},
   "source": [
    "### Task 5: Running the Simulation (6 pts)\n",
    "\n",
    "In this task, you'll write the code for a simulation under assumption of the null hypothesis --- that is, you will generate a sampling distribution of the difference in human density in the habitats occupied by our two groups (nocturnal and diurnal animals). Use the functions from task 2 and task 4.\n",
    "\n",
    "In the cell below, write code to accomplish the following:\n",
    "\n",
    "- Fill in your student number to initialize the `student_number` variable.\n",
    "- Initialize a new empty list called `my_resampled_test_statistics`that will be used to store the sample test statistics we will compute.\n",
    "- In a for loop, repeat the following steps **1000** times:\n",
    "    - Create a new `DataFrame` from `pantheria_final` with the `Activity Cycle Label` column shuffled.\n",
    "    - For the shuffled `DataFrame`, calculate the difference in mean human density for nocturnal animals and mean human density for diurnal animals.\n",
    "    - Append this difference to `my_resampled_test_statistics`.\n",
    "- After the for loop, convert `my_resampled_test_statistics` into a `DataFrame` with a single column called `Mean Human Density Difference`.\n",
    "    Store the result in a variable called `mean_diff_df`."
   ]
  },
  {
   "cell_type": "code",
   "execution_count": null,
   "id": "cb560ea3",
   "metadata": {},
   "outputs": [],
   "source": [
    "# Add your student number here, and do NOT change the np.random.seed line of code.\n",
    "student_number = REPLACE\n",
    "\n",
    "np.random.seed(student_number)\n",
    "\n",
    "# Complete the code below\n",
    "\n",
    "\n",
    "\n",
    "# This code is provided to help check your work\n",
    "mean_diff_df.head()"
   ]
  },
  {
   "cell_type": "markdown",
   "id": "579c4831",
   "metadata": {},
   "source": [
    "### Task 6: Visualizing our results (2 pts)\n",
    "\n",
    "Create a single plot that contains the following two things \n",
    "\n",
    "1. A histogram plotting the simulated test statistics from Task 5.\n",
    "2. A single vertical line plotting the actual test statistic from Task 3.\n",
    "\n",
    "*Hint*: remember that we have imported `matplotlib.pyplot as plt` in the first cell of this notebook."
   ]
  },
  {
   "cell_type": "code",
   "execution_count": null,
   "id": "5dcb5981",
   "metadata": {},
   "outputs": [],
   "source": [
    "# Write your solution here\n",
    "\n",
    "\n",
    "# Keep the code below after your plotting code. \n",
    "plt.show()"
   ]
  },
  {
   "cell_type": "markdown",
   "id": "629b2ceb",
   "metadata": {},
   "source": [
    "### Task 7: Calculating our p-value (4 pts)\n",
    "\n",
    "Calculate the p-value by finding the proportion of simulated differences whose absolute values are `>= abs(test_statistic)`.\n",
    "Store the p-value in a variable called `my_pvalue`. \n",
    "\n",
    "Note: Recall that this is a two-sided test, since the alternative hypothesis is \"The mean human density in habitats occupied by nocturnal and diurnal species is the *not* the same.\"\n",
    "You can use the `.abs()` method to take compute the absolute value of every number in a `Series`."
   ]
  },
  {
   "cell_type": "code",
   "execution_count": null,
   "id": "e27569a8",
   "metadata": {},
   "outputs": [],
   "source": [
    "# Write your solution here\n",
    "\n",
    "\n",
    "\n",
    "# This code is provided to help check your work\n",
    "print('The p-value is:', my_pvalue)"
   ]
  },
  {
   "cell_type": "markdown",
   "id": "0a487c04",
   "metadata": {},
   "source": [
    "### Task 8: Conclusion (2 pts)\n",
    "\n",
    "State the your conclusions about the hypothesis test based on your observed p-value "
   ]
  },
  {
   "cell_type": "markdown",
   "id": "86e2900e",
   "metadata": {},
   "source": [
    "*Write your answer here*.\n",
    "\n"
   ]
  },
  {
   "cell_type": "markdown",
   "id": "10606ed1",
   "metadata": {},
   "source": [
    "## Part 4: Linear Regression (20 points)\n",
    "\n",
    "In this part we will build and compare three linear regression models which predict a species' maximum longevity using the species' social group size and its body mass. At the end of this part you will select one model and interpret the results of the model."
   ]
  },
  {
   "cell_type": "markdown",
   "id": "ff7ee813",
   "metadata": {},
   "source": [
    "### Task 1: Visualizing the data (4 pts)\n",
    "\n",
    "First, create two scatterplots from `pantheria_final` *(2 pts)*:\n",
    "\n",
    "- one with social group size  on the x-axis and maximum longevity in months on the y-axis. \n",
    "- one with body mass in grams on the x-axis and maximum longevity in months on the y-axis. \n",
    "\n",
    "You do not need to store the plots in variables or provide axis labels or titles."
   ]
  },
  {
   "cell_type": "code",
   "execution_count": null,
   "id": "a92e7012",
   "metadata": {},
   "outputs": [],
   "source": [
    "# Write your code for the first scatterplot here\n",
    "\n",
    "\n",
    "\n",
    "# Keep the code below after your plotting code. \n",
    "plt.show()"
   ]
  },
  {
   "cell_type": "code",
   "execution_count": null,
   "id": "82398f26",
   "metadata": {},
   "outputs": [],
   "source": [
    "# Write your code for the second scatterplot here\n",
    "\n",
    "\n",
    "\n",
    "# Keep the code below after your plotting code. \n",
    "plt.show()"
   ]
  },
  {
   "cell_type": "markdown",
   "id": "3f19ad11",
   "metadata": {},
   "source": [
    "In the cell below, comment on the shape of the scatterplots.\n",
    "Specifically comment on whether any linear trends are visible, and whether the trend looks \"positive\" or \"negative\".\n",
    "Do you notice any outliers? Do you have any suggestions for filtering or transforming the data? \n",
    "Your answers will be evaluated on reasonable interpretation of your scatter plots nad logical suggestions based on your interpretations. *(2 pts)* "
   ]
  },
  {
   "cell_type": "markdown",
   "id": "1ceda64f",
   "metadata": {},
   "source": [
    "*Write your answer here.*\n",
    "\n",
    "\n"
   ]
  },
  {
   "cell_type": "markdown",
   "id": "ef6750bd",
   "metadata": {},
   "source": [
    "### Task 2: Transforming the data (3 pts)\n",
    "\n",
    "In the cell below, we've created a copy of `pantheria_final` called `pantheria_transformed` without any `NaN` values.\n",
    "Perform the following transformations on the `pantheria_transformed` dataset:\n",
    "\n",
    "1. Add a new column to `pantheria_transformed` called `log Social Group Size` that contains the natural log of each species' social group size using `np.log()` function.\n",
    "\n",
    "2. Add a new column to `pantheria_transformed` called `log Body Mass` that contains the natural log of each species' body mass in grams using `np.log()` function.\n",
    "\n",
    "3. Remove all species with a body mass in grams exceeds $10^6$.\n",
    "\n",
    "    *Hint*: You can use `np.power(10, 6)` to create the number $10^6$.\n",
    "\n",
    "Make sure that after this cell is run, the variable `pantheria_transformed` is a `DataFrame` containing the transformed data.\n",
    "\n"
   ]
  },
  {
   "cell_type": "code",
   "execution_count": null,
   "id": "d89cf7c3",
   "metadata": {},
   "outputs": [],
   "source": [
    "# Please don't change this line of code\n",
    "pantheria_transformed = pantheria_final[~pantheria_final.isnull().any(axis=1)].copy()\n",
    "\n",
    "# Write your solution here\n",
    "\n",
    "\n",
    "\n",
    "# This code is provided to help check your work\n",
    "pantheria_transformed.head()"
   ]
  },
  {
   "cell_type": "markdown",
   "id": "75e52e00",
   "metadata": {},
   "source": [
    "_Marking scheme:_\n",
    "\n",
    "- **(1 pt)** for each transformation."
   ]
  },
  {
   "cell_type": "markdown",
   "id": "746167cf",
   "metadata": {},
   "source": [
    "### Task 3: Visualizing the transformed data (2 pts)\n",
    "\n",
    "Create two new scatterplots on `pantheria_transformed` \n",
    "\n",
    "- one with log of social group size on the x-axis and maximum longevity in months on the y-axis. \n",
    "- one with log of body mass in grams on the x-axis and maximum longevity in months on the y-axis.\n",
    "\n",
    "You do not need to store the plots in variables or provide axis labels or titles."
   ]
  },
  {
   "cell_type": "code",
   "execution_count": null,
   "id": "f805c70c",
   "metadata": {},
   "outputs": [],
   "source": [
    "# Write your code for the first scatterplot here\n",
    "\n",
    "\n",
    "\n",
    "plt.show()"
   ]
  },
  {
   "cell_type": "code",
   "execution_count": null,
   "id": "5d455a93",
   "metadata": {},
   "outputs": [],
   "source": [
    "# Write your code for the second scatterplot here\n",
    "\n",
    "\n",
    "\n",
    "plt.show()"
   ]
  },
  {
   "cell_type": "markdown",
   "id": "8f59a9d8",
   "metadata": {},
   "source": [
    "### Task 4: Creating the linear regression models (2 pts)\n",
    "\n",
    "The following code cell creates two linear regression models.\n",
    "\n",
    "*Note*: because our column names contain spaces, we needed to use the quoting function `Q(...)` to refer to them inside `ols()`.\n",
    "Otherwise this code does the same thing as the code we studied in Week 10 and Week 11."
   ]
  },
  {
   "cell_type": "code",
   "execution_count": 59,
   "id": "ac49d9bf",
   "metadata": {},
   "outputs": [],
   "source": [
    "# Run this code cell, but do not modify it\n",
    "regmod1 = smf.ols('Q(\"Max Longevity (m)\") ~ Q(\"log Social Group Size\")', data=pantheria_transformed)\n",
    "\n",
    "regmod2 = smf.ols('Q(\"Max Longevity (m)\") ~ Q(\"log Social Group Size\") + Q(\"log Body Mass\")', data=pantheria_transformed)"
   ]
  },
  {
   "cell_type": "markdown",
   "id": "0d27f6fa",
   "metadata": {},
   "source": [
    "In the cell below, state what the independent and dependent variables are for the each of the two models created above. *(2 pts)*"
   ]
  },
  {
   "cell_type": "markdown",
   "id": "0877d767",
   "metadata": {},
   "source": [
    "*Write your answer here.*\n"
   ]
  },
  {
   "cell_type": "markdown",
   "id": "8660f540",
   "metadata": {},
   "source": [
    "### Task 5: Measuring appropriateness of the models (2 pts)\n",
    "\n",
    "Write code to the following for each of the two models from Task 4:\n",
    "\n",
    "- Fit the model by calling `.fit()` (make sure to save the result in a variable)\n",
    "- Display the statistical summary table of the regression model\n",
    "- Print the r-squared value of the model\n",
    "- Create a scatterplot of the residuals (where the x-axis shows the fitted value of the dependent variable and the y-axis shows the residual)\n",
    "\n",
    "*Hint*: We performed each of these operations in Week 11's lecture on linear regression. "
   ]
  },
  {
   "cell_type": "code",
   "execution_count": null,
   "id": "6672bcc7",
   "metadata": {},
   "outputs": [],
   "source": [
    "# Write your code for regmod1 here\n",
    "\n",
    "\n",
    "\n",
    "# Generate the scatter plot\n",
    "\n",
    "\n",
    "\n",
    "plt.show()"
   ]
  },
  {
   "cell_type": "code",
   "execution_count": null,
   "id": "030f29c6",
   "metadata": {},
   "outputs": [],
   "source": [
    "# Write your code for regmod2 here\n",
    "\n",
    "\n",
    "\n",
    "# Generate the scatter plot\n",
    "\n",
    "\n",
    "\n",
    "plt.show()"
   ]
  },
  {
   "cell_type": "markdown",
   "id": "e2c957cc",
   "metadata": {},
   "source": [
    "### Task 6: Comparing the models (1 pt)\n",
    "\n",
    "Based off the output produced in Task 5, which model do you prefer, `regmod1` or `regmod2`? Explain why this model is more appropriate. Your answer will be evaluated based on reasonable and logical interpretation of the model summaries. "
   ]
  },
  {
   "cell_type": "markdown",
   "id": "e7bcdddc",
   "metadata": {},
   "source": [
    "*Write your response here.*\n",
    "\n"
   ]
  },
  {
   "cell_type": "markdown",
   "id": "774135b9",
   "metadata": {},
   "source": [
    "### Task 7: Interpreting the model (3 pts)\n",
    "\n",
    "Refer to the summary table of the model you selected in Task 6.\n",
    "What is the estimated line of best fit for the selected model?\n",
    "Provide an interpretation for the y-intercept and slope estimate(s). \n",
    "\n",
    "*Hint:* The smallest social group size is 1, the smallest body mass (g) is greater than 1 in the data set, and $\\log(1)=0$."
   ]
  },
  {
   "cell_type": "markdown",
   "id": "db8fe755",
   "metadata": {},
   "source": [
    "*Write your response here.*\n",
    "\n"
   ]
  },
  {
   "cell_type": "markdown",
   "id": "f81a8528",
   "metadata": {},
   "source": [
    "### Task 8: Interpreting the biology (3 pts)\n",
    "\n",
    "Using your preferred model, explain the relationship between social group size and maximum longevity in months in biological terms by answering the following questions:\n",
    "\n",
    "1) Why do you think these two variables are related?\n",
    "\n",
    "2) Assume your preferred model captures the relationshiop between social group size and max longevity reasonably. Tigers (panthera tigris) are primarily solitary animals and can live up to 25 years. If you were to predict a tiger's life span using your model, do you expect the residuals to be positive, negative, or negligible baesd on its solitary tendency? Can you think of an biological explanation? Use your instincts and imagination."
   ]
  },
  {
   "cell_type": "markdown",
   "id": "fa7e406e",
   "metadata": {},
   "source": [
    "*Write your response here.*"
   ]
  },
  {
   "cell_type": "markdown",
   "id": "797fc82a",
   "metadata": {},
   "source": [
    "## How to Submit the Final Exam\n",
    "\n",
    "1. Download this notebook to your computer and save it as `eeb125_final_exam.ipynb`.\n",
    "2. Log in here: https://markus.teach.cs.toronto.edu/markus/main/login_remote_auth.\n",
    "3. Submit the downloaded file to `final-exam: Final Exam`.\n",
    "    You do *not* need to submit the `pantheria.csv` dataset file.\n",
    "\n",
    "**Note**: MarkUs will accept multiple submissions, so of you have submitted early and would like to make changes and resubmit *before the exam's end time*, you absolutely can!"
   ]
  }
 ],
 "metadata": {
  "kernelspec": {
   "display_name": "Python 3 (ipykernel)",
   "language": "python",
   "name": "python3"
  },
  "language_info": {
   "codemirror_mode": {
    "name": "ipython",
    "version": 3
   },
   "file_extension": ".py",
   "mimetype": "text/x-python",
   "name": "python",
   "nbconvert_exporter": "python",
   "pygments_lexer": "ipython3",
   "version": "3.13.1"
  }
 },
 "nbformat": 4,
 "nbformat_minor": 5
}
